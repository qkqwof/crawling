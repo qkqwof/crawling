{
 "cells": [
  {
   "cell_type": "markdown",
   "metadata": {},
   "source": [
    "<img src = \"./img/패턴 총정리.png\">"
   ]
  },
  {
   "cell_type": "markdown",
   "metadata": {},
   "source": [
    "### HTML언어 이해를 기반으로 크롤링 해보기"
   ]
  },
  {
   "cell_type": "code",
   "execution_count": 8,
   "metadata": {},
   "outputs": [
    {
     "name": "stdout",
     "output_type": "stream",
     "text": [
      "<p class=\"cssstyle\">웹페이지에서 필요한 데이터를 추출하는 것</p>\n",
      "웹페이지에서 필요한 데이터를 추출하는 것\n",
      "웹페이지에서 필요한 데이터를 추출하는 것\n",
      "파이썬을 중심으로 다양한 웹크롤링 기술 발달\n"
     ]
    }
   ],
   "source": [
    "from bs4 import BeautifulSoup\n",
    "html = \"\"\"\n",
    "<html> \n",
    "    <body> \n",
    "        <h1 id='title'>[1]크롤링이란?</h1> \n",
    "        <p class='cssstyle'>웹페이지에서 필요한 데이터를 추출하는 것</p> \n",
    "        <p id='body' align='center'>파이썬을 중심으로 다양한 웹크롤링 기술 발달</p> \n",
    "    </body> \n",
    "</html>\n",
    "        \"\"\"\n",
    "soup = BeautifulSoup(html,\"html.parser\")\n",
    "\n",
    "# 태그로 검색 방법\n",
    "data = soup.find(\"p\")\n",
    "data1 = soup.find(id=\"body\")\n",
    "print(data)\n",
    "print(data.string) # 안에 있는 내용만 추출\n",
    "print(data.get_text()) # 안에 있는 내용만 추출\n",
    "print(data1.string)"
   ]
  },
  {
   "cell_type": "markdown",
   "metadata": {},
   "source": [
    "HTML 언어 이해를 기반으로 크롤링해보기\n",
    "p 태그 문장이 두 개인데 이 중에 하나를 선택하려면?\n",
    "1. data = soup.find('p', class_='cssstyle')\n",
    "2. data = soup.find('p', 'cssstyle')\n",
    "3. data = soup.find('p', attrs = {'align': 'center'}) -> 속성값으로 전달\n",
    "4. data = soup.find(id='body') -> id인 경우!!"
   ]
  },
  {
   "cell_type": "code",
   "execution_count": null,
   "metadata": {},
   "outputs": [],
   "source": []
  },
  {
   "cell_type": "markdown",
   "metadata": {},
   "source": [
    "p 태그 문장을 모두 가져오려면?\n",
    "- find_all()함수 사용하기"
   ]
  },
  {
   "cell_type": "code",
   "execution_count": 10,
   "metadata": {},
   "outputs": [
    {
     "name": "stdout",
     "output_type": "stream",
     "text": [
      "웹페이지에서 필요한 데이터를 추출하는 것\n",
      "파이썬을 중심으로 다양한 웹크롤링 기술 발달\n"
     ]
    }
   ],
   "source": [
    "paragraph_data = soup.find_all('p')\n",
    "for paragraph in paragraph_data:\n",
    "    print(paragraph.get_text())  #리스트 형태로 가져오기 때문에 반복문 사용"
   ]
  },
  {
   "cell_type": "code",
   "execution_count": null,
   "metadata": {},
   "outputs": [],
   "source": []
  }
 ],
 "metadata": {
  "kernelspec": {
   "display_name": "Python 3",
   "language": "python",
   "name": "python3"
  },
  "language_info": {
   "codemirror_mode": {
    "name": "ipython",
    "version": 3
   },
   "file_extension": ".py",
   "mimetype": "text/x-python",
   "name": "python",
   "nbconvert_exporter": "python",
   "pygments_lexer": "ipython3",
   "version": "3.8.5"
  }
 },
 "nbformat": 4,
 "nbformat_minor": 4
}
